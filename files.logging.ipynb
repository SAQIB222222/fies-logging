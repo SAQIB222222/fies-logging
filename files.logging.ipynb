{
 "cells": [
  {
   "cell_type": "markdown",
   "id": "aeaba49d-d0d2-45c6-a9a9-0a6c37b3e4f1",
   "metadata": {},
   "source": [
    "Q1. Which function is used to open a file? What are the different modes of opening a file? Explain each mode of file opening"
   ]
  },
  {
   "cell_type": "markdown",
   "id": "a67ea3dd-52b2-4044-a00b-44e28d1b7c9c",
   "metadata": {},
   "source": [
    "In Python, the built-in open() function is used to open a file. It returns a file object, which can be used to read or write to the file.\n",
    "\n",
    "The different modes of opening a file are:\n",
    "\n",
    "r: read-only mode. This is the default mode when a file is opened. It opens a file for reading and raises an error if the file does not exist.\n",
    "\n",
    "w: write mode. It opens a file for writing and creates the file if it does not exist. If the file already exists, it will truncate (i.e. erase) the existing content of the file.\n",
    "\n",
    "a: append mode. It opens a file for writing, but it does not truncate the file. Instead, it appends new content to the end of the existing content.\n",
    "\n",
    "x: exclusive creation mode. It opens a file for exclusive creation, meaning that it will raise an error if the file already exists.\n",
    "\n",
    "b: binary mode. It is used to open a file in binary mode, which is required when working with non-text files like images, audio, and video files. This mode is used in combination with the other modes.\n",
    "\n",
    "t: text mode. It is used to open a file in text mode, which is the default mode. This mode is used in combination with the other modes.\n"
   ]
  },
  {
   "cell_type": "markdown",
   "id": "4532942a-3aef-4211-808d-14f536df1420",
   "metadata": {},
   "source": [
    "Q2. Why close() function is used? Why is it important to close a file?\n"
   ]
  },
  {
   "cell_type": "markdown",
   "id": "a5295f4e-262e-4a0d-912d-16ad3b1abdd9",
   "metadata": {},
   "source": [
    "The close() function is used to close a file that has been opened using the open() function in Python. When you open a file, the operating system reserves some resources to allow the program to access the file. These resources include the file descriptor and the file buffer. If you do not close the file properly, these resources will remain locked, which can cause problems if the program needs to access the file again or if other programs need to access the file.\n",
    "\n",
    "It is important to close a file after you have finished working with it because:\n",
    "\n",
    "It releases the resources that were reserved by the operating system when the file was opened. This frees up system resources for other programs to use.\n",
    "It ensures that any changes made to the file are saved. When you write to a file, the data is stored in a buffer until the buffer is full or until you close the file. If you do not close the file, the data may not be written to the file properly, and you may lose some or all of the data you wrote to the file.\n",
    "It prevents file corruption or data loss. If you open a file for writing and then open it again without closing the first instance of the file, you may overwrite the original file, which can result in data loss or file corruption.\n",
    "In summary, it is important to always close a file after you have finished working with it to ensure that all changes are saved, and to free up system resources for other programs to use."
   ]
  },
  {
   "cell_type": "markdown",
   "id": "a41e96bf-709f-4197-bd8f-39fe21c0d50f",
   "metadata": {},
   "source": [
    "Q3. Write a python program to create a text file. Write ‘I want to become a Data Scientist’ in that file. Then\n",
    "close the file. Open this file and read the content of the file."
   ]
  },
  {
   "cell_type": "code",
   "execution_count": 50,
   "id": "516354bc-ab58-4cfa-a5bf-35f4331f6c77",
   "metadata": {},
   "outputs": [],
   "source": [
    "f = open(\"text.txt\",'w')"
   ]
  },
  {
   "cell_type": "code",
   "execution_count": 51,
   "id": "c7c67b37-1187-4a51-a06c-19d19648773f",
   "metadata": {},
   "outputs": [
    {
     "data": {
      "text/plain": [
       "33"
      ]
     },
     "execution_count": 51,
     "metadata": {},
     "output_type": "execute_result"
    }
   ],
   "source": [
    "f.write(\"i want to become a data scientist\")"
   ]
  },
  {
   "cell_type": "code",
   "execution_count": 52,
   "id": "10fe3293-60c5-4713-9911-25b03257207b",
   "metadata": {},
   "outputs": [],
   "source": [
    "f.close()"
   ]
  },
  {
   "cell_type": "code",
   "execution_count": 53,
   "id": "5aecb8d0-32e3-45fe-90ed-37341b0d0ca8",
   "metadata": {},
   "outputs": [],
   "source": [
    "f = open(\"text.txt\",'r')"
   ]
  },
  {
   "cell_type": "code",
   "execution_count": 54,
   "id": "7bc6913b-c1ea-49a2-94dd-7a2306562080",
   "metadata": {},
   "outputs": [
    {
     "data": {
      "text/plain": [
       "'i want to become a data scientist'"
      ]
     },
     "execution_count": 54,
     "metadata": {},
     "output_type": "execute_result"
    }
   ],
   "source": [
    "f.read()"
   ]
  },
  {
   "cell_type": "code",
   "execution_count": 55,
   "id": "8011f63d-9a37-4637-8533-b8f15841544b",
   "metadata": {},
   "outputs": [
    {
     "name": "stdout",
     "output_type": "stream",
     "text": [
      "i want to become a data scientist\n"
     ]
    }
   ],
   "source": [
    "with open(\"text.txt\",'r') as f:\n",
    "     print( f.read())\n",
    "        "
   ]
  },
  {
   "cell_type": "markdown",
   "id": "eba9c795-db87-4f06-a116-cad10d9ff8d4",
   "metadata": {},
   "source": [
    "Q4. Explain the following with python code: read(), readline() and readlines()."
   ]
  },
  {
   "cell_type": "code",
   "execution_count": 56,
   "id": "30706c12-619b-4be9-ad26-809db35aa210",
   "metadata": {},
   "outputs": [],
   "source": [
    "f = open(\"text2.txt\",'w')"
   ]
  },
  {
   "cell_type": "code",
   "execution_count": 57,
   "id": "1f240738-c991-472a-97ed-54f240761473",
   "metadata": {},
   "outputs": [
    {
     "data": {
      "text/plain": [
       "506"
      ]
     },
     "execution_count": 57,
     "metadata": {},
     "output_type": "execute_result"
    }
   ],
   "source": [
    "f.write(\"This course has been designed to help you become a complete and professional Java professional. This unique industrial program will teach you the entire Java Development process which helps to land jobs in top organizations by developing industry-ready projects. After completing this course, you will have a thorough understanding of various Data Structures and Algorithms with System Design in Java which will further enhance your career as a Java developer. This course will be taught in Hindi language.\")"
   ]
  },
  {
   "cell_type": "code",
   "execution_count": 58,
   "id": "864f72f4-8415-438f-bd80-dd8eea266762",
   "metadata": {},
   "outputs": [],
   "source": [
    "f.close()"
   ]
  },
  {
   "cell_type": "markdown",
   "id": "f1634701-dbb7-4f5b-8c7c-9fa7d6f885e3",
   "metadata": {},
   "source": [
    "In Python, there are several ways to read data from a file. Here is an explanation of the read(), readline(), and readlines() methods with example code:\n",
    "\n",
    "read() method:\n",
    "\n",
    "The read() method reads the entire content of a file into a string. It takes an optional argument size, which specifies the maximum number of bytes to read. If no argument is provided, it reads the entire file."
   ]
  },
  {
   "cell_type": "code",
   "execution_count": 59,
   "id": "384f9ef7-1c0f-4aad-9809-f7383b6f6aa1",
   "metadata": {},
   "outputs": [
    {
     "name": "stdout",
     "output_type": "stream",
     "text": [
      "This course has been designed to help you become a complete and professional Java professional. This unique industrial program will teach you the entire Java Development process which helps to land jobs in top organizations by developing industry-ready projects. After completing this course, you will have a thorough understanding of various Data Structures and Algorithms with System Design in Java which will further enhance your career as a Java developer. This course will be taught in Hindi language.\n"
     ]
    }
   ],
   "source": [
    "with open('text2.txt', 'r') as f:\n",
    "    content = f.read() \n",
    "    print(content)      \n"
   ]
  },
  {
   "cell_type": "markdown",
   "id": "eb92cc51-3179-405c-b73b-4160c47ca175",
   "metadata": {},
   "source": [
    "readline() method:\n",
    "\n",
    "The readline() method reads one line from the file at a time. It returns a string containing the contents of the line, including the newline character at the end of the line. If the end of the file is reached, it returns an empty string."
   ]
  },
  {
   "cell_type": "code",
   "execution_count": 60,
   "id": "df81c6d2-d497-4cb5-9c91-b458511c50b7",
   "metadata": {},
   "outputs": [
    {
     "name": "stdout",
     "output_type": "stream",
     "text": [
      "This course has been designed to help you become a complete and professional Java professional. This unique industrial program will teach you the entire Java Development process which helps to land jobs in top organizations by developing industry-ready projects. After completing this course, you will have a thorough understanding of various Data Structures and Algorithms with System Design in Java which will further enhance your career as a Java developer. This course will be taught in Hindi language.\n"
     ]
    }
   ],
   "source": [
    "with open('text2.txt','r') as f :\n",
    "    line = f.readline()\n",
    "    while line:\n",
    "        print(line)\n",
    "        line = f.readline()"
   ]
  },
  {
   "cell_type": "markdown",
   "id": "b3e0f235-4fb0-456e-8dd5-9b95d2274991",
   "metadata": {},
   "source": [
    "readlines() method:\n",
    "The readlines() method reads all the lines of the file into a list of strings, where each string represents a single line of the file. It is useful for reading the entire file into memory when the file is relatively small"
   ]
  },
  {
   "cell_type": "code",
   "execution_count": 61,
   "id": "47231aa6-9587-4f49-a60d-142095466ff5",
   "metadata": {},
   "outputs": [
    {
     "name": "stdout",
     "output_type": "stream",
     "text": [
      "This course has been designed to help you become a complete and professional Java professional. This unique industrial program will teach you the entire Java Development process which helps to land jobs in top organizations by developing industry-ready projects. After completing this course, you will have a thorough understanding of various Data Structures and Algorithms with System Design in Java which will further enhance your career as a Java developer. This course will be taught in Hindi language.\n"
     ]
    }
   ],
   "source": [
    "with open('text2.txt', 'r') as f:\n",
    "    lines = f.readlines()  \n",
    "    for line in lines:\n",
    "        print(line)\n"
   ]
  },
  {
   "cell_type": "markdown",
   "id": "cd71066b-4742-486d-82fc-f16dc951eab0",
   "metadata": {},
   "source": [
    "Q5"
   ]
  },
  {
   "cell_type": "markdown",
   "id": "7e51527b-f92c-440e-8c89-622dfcd83a56",
   "metadata": {},
   "source": [
    "n Python, the with statement is used with the open() function to ensure that files are properly closed after they have been used. The with statement sets up a context in which a resource (in this case, a file) is used and then automatically closed when the context is exited. This eliminates the need for explicit calls to close the file, which can be prone to errors and is generally considered bad practice\n",
    "\n",
    "\n",
    "\n"
   ]
  },
  {
   "cell_type": "code",
   "execution_count": 62,
   "id": "4c10ae3e-5c15-440c-b9ea-f055db320362",
   "metadata": {},
   "outputs": [],
   "source": [
    "with open('text2.txt', 'r') as f:\n",
    "    contents = f.read()"
   ]
  },
  {
   "cell_type": "markdown",
   "id": "a84132de-3f56-47e7-8baf-1541c9a4e8c8",
   "metadata": {},
   "source": [
    "In this example, the file text2.txt is opened in read mode and assigned to the variable f. The with statement sets up the context in which the file is used, and when the block of code inside the with statement is completed, the file is automatically closed. The contents of the file are read into the variable contents using the read() method of the file object.\n",
    "\n",
    "The advantage of using with statement and open() together is that it ensures that the file is properly closed, even if an error occurs while the file is being used. This makes the code more robust and less prone to errors, and also makes it easier to read and understand, as the closing of the file is handled automatically. Additionally, using with and open() together can lead to cleaner, more concise code that is easier to maintain over time."
   ]
  },
  {
   "cell_type": "markdown",
   "id": "84d0cff7-aec1-4496-9264-1664669750e2",
   "metadata": {},
   "source": [
    "Q6. Explain the write() and writelines() functions. Give a suitable example."
   ]
  },
  {
   "cell_type": "markdown",
   "id": "4a3bfb79-f75d-4cdc-a455-505d8ced40a6",
   "metadata": {},
   "source": [
    "In Python, the write() and writelines() functions are used to write data to a file.\n",
    "\n",
    "The write() function is used to write a single string to a file. It returns the number of characters that were written to the file. Here's an example:\n",
    "\n",
    "\n",
    "\n",
    "Note that both write() and writelines() functions overwrite any existing content in the file by default. To append new content to an existing file, you can open the file in append mode ('a') instead of write mode ('w').\n",
    "\n",
    "\n",
    "\n"
   ]
  },
  {
   "cell_type": "markdown",
   "id": "454e4ab1-3a64-48a1-8720-4a8d01b9f4cc",
   "metadata": {},
   "source": [
    "In this example, the file myfile.txt is opened in write mode, and the write() function is used to write the string 'Hello, world!' to the file. When the with block is exited, the file is automatically closed."
   ]
  },
  {
   "cell_type": "code",
   "execution_count": 63,
   "id": "b6dbef86-dab3-40c3-b21c-11e240d6fa47",
   "metadata": {},
   "outputs": [],
   "source": [
    "\n",
    "with open('myfile.txt', 'w') as f:\n",
    "    f.write('Hello, world!')"
   ]
  },
  {
   "cell_type": "markdown",
   "id": "c1eaa2b7-b56a-4198-8be5-0ef4c6a1e5c3",
   "metadata": {},
   "source": [
    "The writelines() function, on the other hand, is used to write multiple lines of text to a file. It takes an iterable (e.g. a list, tuple, or set) of strings as input, and writes each string as a separate line to the file. Here's an example:\n",
    "\n",
    "In this example, the list lines contains three strings, each ending with a newline character (\\n). The writelines() function is used to write these strings to the file myfile.txt, with each string appearing on a separate line.\n"
   ]
  },
  {
   "cell_type": "code",
   "execution_count": 64,
   "id": "3c010fd9-503c-4e43-adb6-0153da7ba0a5",
   "metadata": {},
   "outputs": [],
   "source": [
    "\n",
    "lines = ['line 1\\n', 'line 2\\n', 'line 3\\n']\n",
    "with open('myfile.txt', 'w') as f:\n",
    "    f.writelines(lines)"
   ]
  },
  {
   "cell_type": "code",
   "execution_count": null,
   "id": "5f3a1882-e5fc-4f84-ae06-152f84778330",
   "metadata": {},
   "outputs": [],
   "source": []
  }
 ],
 "metadata": {
  "kernelspec": {
   "display_name": "Python 3 (ipykernel)",
   "language": "python",
   "name": "python3"
  },
  "language_info": {
   "codemirror_mode": {
    "name": "ipython",
    "version": 3
   },
   "file_extension": ".py",
   "mimetype": "text/x-python",
   "name": "python",
   "nbconvert_exporter": "python",
   "pygments_lexer": "ipython3",
   "version": "3.10.8"
  }
 },
 "nbformat": 4,
 "nbformat_minor": 5
}
